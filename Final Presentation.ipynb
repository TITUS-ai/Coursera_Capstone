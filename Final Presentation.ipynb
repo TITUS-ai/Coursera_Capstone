{
 "cells": [
  {
   "cell_type": "markdown",
   "metadata": {},
   "source": [
    "# Coursera Capstone"
   ]
  },
  {
   "cell_type": "markdown",
   "metadata": {},
   "source": [
    "## IBM Data Science Capstone"
   ]
  },
  {
   "cell_type": "markdown",
   "metadata": {},
   "source": [
    "## Opening a New Shopping Mall in Hyderabad, India\n"
   ]
  },
  {
   "cell_type": "markdown",
   "metadata": {},
   "source": [
    "#### By: Titus Vijay\n",
    "\n",
    "September 2020"
   ]
  },
  {
   "cell_type": "markdown",
   "metadata": {},
   "source": [
    "## Business Problem:"
   ]
  },
  {
   "cell_type": "markdown",
   "metadata": {},
   "source": [
    "#### •\tLocation of the shopping mall is one of the most important decisions that will determine whether the mall would be a success or a failure\n",
    "#### •\tObjetive:To analyze and select the best locations in the city of Hyderabad,to open a new shopping mall\n",
    "#### •\tThis project is timely as the city is currently suffering from oversupply of shopping malls\n",
    "#### •\tBusiness Equation: In the city of Hyderabad,if a property developer is looking to open a new shopping mall, where would you recommend that they open it?"
   ]
  },
  {
   "cell_type": "markdown",
   "metadata": {},
   "source": [
    "## Data:"
   ]
  },
  {
   "cell_type": "markdown",
   "metadata": {},
   "source": [
    "### Data Required:\n",
    "\n",
    " #### •\tList of neighbourhoods in Hyderabad(https://commons.wikimedia.org/wiki/Category:Suburbs_of_Hyderabad,_India)\n",
    "#### •\tLatitude and longitude coordinates of those neighbourhoods\n",
    "#### •\tVenue data, particularly data related to shopping malls\n"
   ]
  },
  {
   "cell_type": "markdown",
   "metadata": {},
   "source": [
    "### Sources of Data:\n",
    "\n",
    " #### •\tWikipedia page for neighbourhoods in Hyderabad(https://commons.wikimedia.org/wiki/Category:Suburbs_of_Hyderabad,_India)\n",
    "#### •\tGeocoder package for Latitude and longitude coordinates of those neighbourhoods\n",
    "#### •\tFoursquare API for Venue data\n"
   ]
  },
  {
   "cell_type": "markdown",
   "metadata": {},
   "source": [
    "## Methodology:"
   ]
  },
  {
   "cell_type": "markdown",
   "metadata": {},
   "source": [
    "#### •\tWeb scrapping  Wikipedia page (https://commons.wikimedia.org/wiki/Category:Suburbs_of_Hyderabad,_India) neighbourhoods list\n",
    "#### •\tGet latitude and longitude coordinates using geocoder\n",
    "#### •\tUsing Foursquare API to get  Venue data\n",
    "#### •\tGroup data by neighbourhood and taking the mean of the frequency of occurence of each venue category\n",
    "#### •\tFilter venue category by Shopping Mall\n",
    "#### •\tPerform clustering on the data by using k-means clustering\n",
    "#### •\tVisualize the clusters in a map using folium\n"
   ]
  },
  {
   "cell_type": "markdown",
   "metadata": {},
   "source": [
    "## Result:"
   ]
  },
  {
   "cell_type": "markdown",
   "metadata": {},
   "source": [
    "Categorize the neighbourhoods into 3 clusters :\n",
    "#### •Cluster 0: Neighbourhoods have very low number to totally no shopping malls\n",
    "#### •Cluster 1: Neighbourhoods with highest number  of shopping malls\n",
    "#### •Cluster 2: Neighbourhoods with moderate number of shopping malls\n",
    "\n",
    "\n"
   ]
  },
  {
   "cell_type": "markdown",
   "metadata": {},
   "source": [
    "## Discussion:"
   ]
  },
  {
   "cell_type": "markdown",
   "metadata": {},
   "source": [
    "#### •Most of the shopping malls are concentrated in areas like Manikonda,Golconda,Dilsukhnagar,Kukatpally,Nagole\n",
    "#### •Highest number in cluster 1 and moderate number in cluster 2\n",
    "#### •Cluster 0 has very low number to totally no shopping mall in the neighborhoods\n",
    "#### •Oversupply of shopping malls mostly happened in the central area of the city, with the suburb area still have very few shopping malls\n",
    "\n"
   ]
  },
  {
   "cell_type": "markdown",
   "metadata": {},
   "source": [
    "## Recommendations:"
   ]
  },
  {
   "cell_type": "markdown",
   "metadata": {},
   "source": [
    "#### •Cluster 0 has very low number to totally no shopping mall in the neighborhoods. This represents a great opportunity and high potential areas to open new shopping malls as there is very little to no competition from existing malls\n",
    "#### •Avoid opening new malls  in cluster 1 which already have high concentration of shopping malls and suffering from intense competition\n",
    "#### •Can also open new shopping malls in neighborhoods in cluster 2 with moderate competition"
   ]
  },
  {
   "cell_type": "markdown",
   "metadata": {},
   "source": [
    "## Conclusion:"
   ]
  },
  {
   "cell_type": "markdown",
   "metadata": {},
   "source": [
    "#### •Answer to business question:The neighbourhoods in cluster 0 is the most preferred locations to open a new shopping mall\n",
    "#### •The findings of this project will help the relevant stakeholders to capitalize on the opportunities on high potential locations while avoiding overcrowded areas in their decisions to open a new shopping mall."
   ]
  },
  {
   "cell_type": "markdown",
   "metadata": {},
   "source": [
    "# Thank You "
   ]
  },
  {
   "cell_type": "code",
   "execution_count": null,
   "metadata": {},
   "outputs": [],
   "source": []
  }
 ],
 "metadata": {
  "kernelspec": {
   "display_name": "Python",
   "language": "python",
   "name": "conda-env-python-py"
  },
  "language_info": {
   "codemirror_mode": {
    "name": "ipython",
    "version": 3
   },
   "file_extension": ".py",
   "mimetype": "text/x-python",
   "name": "python",
   "nbconvert_exporter": "python",
   "pygments_lexer": "ipython3",
   "version": "3.6.11"
  }
 },
 "nbformat": 4,
 "nbformat_minor": 4
}
